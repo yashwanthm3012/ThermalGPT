{
 "cells": [
  {
   "cell_type": "code",
   "execution_count": 2,
   "metadata": {},
   "outputs": [
    {
     "name": "stdout",
     "output_type": "stream",
     "text": [
      "File saved to: ./working/Case3_Field.vtk\n"
     ]
    }
   ],
   "source": [
    "import os\n",
    "import numpy as np\n",
    "import pyvista as pv\n",
    "\n",
    "def temp_field_case3(x, y):\n",
    "    \"\"\"\n",
    "    Temperature field for Case 3:\n",
    "    Solves the Laplace equation with the given boundary conditions.\n",
    "    \"\"\"\n",
    "    # Initialize T with zeros\n",
    "    T = np.zeros_like(x)\n",
    "    \n",
    "    # Apply boundary conditions\n",
    "    T[:, 0] = 0  # T(x, 0) = 0\n",
    "    T[:, -1] = 0  # T(x, 1) = 0\n",
    "    T[0, :] = 0  # T(0, y) = 0\n",
    "    T[-1, :] = y[0, :] * (1 - y[0, :])  # T(1, y) = y(1-y)\n",
    "    \n",
    "    return T\n",
    "\n",
    "def generate_vtk_case3(filename, nx=100, ny=100):\n",
    "    \"\"\"\n",
    "    Generate a VTK file for Case 3.\n",
    "    \"\"\"\n",
    "    # Ensure output directory exists\n",
    "    output_dir = \"./working/\"\n",
    "    os.makedirs(output_dir, exist_ok=True)\n",
    "    \n",
    "    # Create mesh grid\n",
    "    x = np.linspace(0, 1, nx)\n",
    "    y = np.linspace(0, 1, ny)\n",
    "    X, Y = np.meshgrid(x, y)\n",
    "    Z = np.zeros_like(X)  # For 2D data, Z is set to zero\n",
    "    \n",
    "    # Calculate temperature field\n",
    "    temperature = temp_field_case3(X, Y)\n",
    "    \n",
    "    # Create a PyVista grid\n",
    "    grid = pv.StructuredGrid(X, Y, Z)\n",
    "    grid[\"Temperature\"] = temperature.ravel(order=\"F\")  # Flatten for VTK format\n",
    "    \n",
    "    # Save the grid to a .vtk file\n",
    "    file_path = os.path.join(output_dir, f\"{filename}.vtk\")\n",
    "    grid.save(file_path)\n",
    "    print(f\"File saved to: {file_path}\")\n",
    "\n",
    "# Generate the VTK file for Case 3\n",
    "generate_vtk_case3(\"Case3_Field\")\n"
   ]
  }
 ],
 "metadata": {
  "kernelspec": {
   "display_name": "Python 3",
   "language": "python",
   "name": "python3"
  },
  "language_info": {
   "codemirror_mode": {
    "name": "ipython",
    "version": 3
   },
   "file_extension": ".py",
   "mimetype": "text/x-python",
   "name": "python",
   "nbconvert_exporter": "python",
   "pygments_lexer": "ipython3",
   "version": "3.10.12"
  }
 },
 "nbformat": 4,
 "nbformat_minor": 2
}
